{
 "cells": [
  {
   "cell_type": "code",
   "execution_count": 2,
   "id": "05ae0177",
   "metadata": {},
   "outputs": [],
   "source": [
    "import mysql.connector as mysql\n",
    "import pandas as pd"
   ]
  },
  {
   "cell_type": "code",
   "execution_count": 3,
   "id": "60170888",
   "metadata": {},
   "outputs": [],
   "source": [
    "db = mysql.connect(host = 'localhost',user = 'root',passwd = '***********',database = 'Countries')"
   ]
  },
  {
   "cell_type": "code",
   "execution_count": 4,
   "id": "84d5ad71",
   "metadata": {},
   "outputs": [],
   "source": [
    "cursor = db.cursor()"
   ]
  },
  {
   "cell_type": "code",
   "execution_count": 10,
   "id": "e06029d3",
   "metadata": {},
   "outputs": [],
   "source": [
    "def modificar_paises(lista):\n",
    "    if type(lista) != list:\n",
    "        lista = lista['Entity']\n",
    "    paises_mod = []\n",
    "    for pais in lista:\n",
    "        for letra in pais:\n",
    "            if letra == ' ' or letra == '-' or letra == '(' or letra == ')':\n",
    "                index = pais.index(letra)\n",
    "                pais = pais[:index] + '_' + pais[index + 1:]\n",
    "            if letra == \"'\" or letra == ':':\n",
    "                index = pais.index(letra)\n",
    "                pais = pais[:index] + pais[index + 1:]\n",
    "            if letra == '&':\n",
    "                index = pais.index(letra)\n",
    "                pais = pais[:index] + 'and' + pais[index + 1:]\n",
    "        if pais not in paises_mod:\n",
    "            paises_mod.append(pais)\n",
    "    return paises_mod"
   ]
  },
  {
   "cell_type": "code",
   "execution_count": 6,
   "id": "fff69482",
   "metadata": {},
   "outputs": [],
   "source": [
    "class Tabela:\n",
    "    def __init__(self,cursor,nome,list_atributos,list_tipos):\n",
    "        self.atributos = list_atributos\n",
    "        self.nome = nome\n",
    "        self.cursor = cursor\n",
    "        try:\n",
    "            comando = 'SELECT * FROM ' + self.nome + ';'\n",
    "            self.cursor.execute(comando)\n",
    "            self.data = self.cursor.fetchall()\n",
    "        except mysql.ProgrammingError:\n",
    "            atributos = '('\n",
    "            for i in range(len(list_atributos)):\n",
    "                atributos += list_atributos[i] + ' ' + list_tipos[i] + ','\n",
    "            atributos = atributos[:-1] + ')'\n",
    "            comando = 'CREATE TABLE ' + nome + ' ' + atributos + ';'\n",
    "            #print(comando)\n",
    "            self.cursor.execute(comando)\n",
    "\n",
    "    def inserir_dados_double(self,nomes_atributos,lista_dados):\n",
    "        nomes = '('\n",
    "        for nome in nomes_atributos:\n",
    "            nomes += nome + ','\n",
    "        nomes = nomes[:-1] + ')'\n",
    "        lista = '('\n",
    "        for dado in lista_dados:\n",
    "            lista += str(dado) + ','\n",
    "        lista = lista[:-1] + ')'\n",
    "        comando = 'INSERT INTO ' + self.nome + ' ' + nomes + ' VALUES ' + lista + ';'\n",
    "        self.cursor.execute(comando)\n",
    "        self.select()\n",
    "        \n",
    "    def clear(self):\n",
    "        comando = 'DELETE FROM ' + self.nome + ';'\n",
    "        self.cursor.execute(comando)\n",
    "        self.select()\n",
    "        \n",
    "    def select(self):\n",
    "        comando = 'SELECT * FROM ' + self.nome + ';'\n",
    "        self.cursor.execute(comando)\n",
    "        self.data = self.cursor.fetchall()\n",
    "        return self.data\n",
    "        \n",
    "    def coluna(self,nome):\n",
    "        comando = 'SELECT ' + nome + ' FROM ' + self.nome + ';'\n",
    "        self.cursor.execute(comando)\n",
    "        col = self.cursor.fetchall()\n",
    "        comando = 'SELECT ' + self.atributos[0] + ' FROM ' + self.nome + ';'\n",
    "        self.cursor.execute(comando)\n",
    "        ind = self.cursor.fetchall()\n",
    "        mapa = dict()\n",
    "        for i in range(len(ind)):\n",
    "            mapa[ind[i][0]] = col[i][0]\n",
    "        return mapa\n",
    "    \n",
    "    def get_colunas(self,lista):\n",
    "        mapa = dict()\n",
    "        for item in lista:\n",
    "            mapa[item] = self.coluna(item)\n",
    "        return mapa"
   ]
  },
  {
   "cell_type": "code",
   "execution_count": 7,
   "id": "347d4057",
   "metadata": {},
   "outputs": [],
   "source": [
    "df = pd.read_csv('gdp-per-capita-worldbank.csv')"
   ]
  },
  {
   "cell_type": "code",
   "execution_count": 11,
   "id": "dcd08902",
   "metadata": {},
   "outputs": [],
   "source": [
    "paises_mod = modificar_paises(df)\n",
    "tipos = ['INT']\n",
    "for _ in range(len(paises_mod)):\n",
    "    tipos.append('DOUBLE')\n",
    "\n",
    "atributos = ['Ano'] + paises_mod"
   ]
  },
  {
   "cell_type": "code",
   "execution_count": 13,
   "id": "c8be6d64",
   "metadata": {},
   "outputs": [],
   "source": [
    "tabela1 = Tabela(cursor,'PIB_per_capita',atributos,tipos)"
   ]
  },
  {
   "cell_type": "code",
   "execution_count": 174,
   "id": "c44958d7",
   "metadata": {},
   "outputs": [],
   "source": [
    "def inserir_dados(df,tabela):\n",
    "    for ano in range(1990,2021):\n",
    "        atrib = ['Ano']\n",
    "        dados = [ano]\n",
    "        for i in range(len(df)):\n",
    "            if ano == df.iloc[i]['Year']:\n",
    "                dados.append(df.iloc[i]['GDP per capita, PPP (constant 2017 international $)'])\n",
    "                atrib.append(df.iloc[i]['Entity'])\n",
    "        atrib_mod = modificar_paises(atrib)\n",
    "        tabela.inserir_dados_double(atrib_mod,dados)"
   ]
  },
  {
   "cell_type": "code",
   "execution_count": 175,
   "id": "0a440140",
   "metadata": {},
   "outputs": [],
   "source": [
    "inserir_dados(df,tabela1)"
   ]
  },
  {
   "cell_type": "code",
   "execution_count": 14,
   "id": "a9d8f4ae",
   "metadata": {},
   "outputs": [],
   "source": [
    "colunas = tabela1.get_colunas(atributos[1:3])"
   ]
  },
  {
   "cell_type": "code",
   "execution_count": 191,
   "id": "a0728588",
   "metadata": {},
   "outputs": [],
   "source": [
    "db.commit()"
   ]
  }
 ],
 "metadata": {
  "kernelspec": {
   "display_name": "Python 3 (ipykernel)",
   "language": "python",
   "name": "python3"
  },
  "language_info": {
   "codemirror_mode": {
    "name": "ipython",
    "version": 3
   },
   "file_extension": ".py",
   "mimetype": "text/x-python",
   "name": "python",
   "nbconvert_exporter": "python",
   "pygments_lexer": "ipython3",
   "version": "3.7.11"
  }
 },
 "nbformat": 4,
 "nbformat_minor": 5
}
