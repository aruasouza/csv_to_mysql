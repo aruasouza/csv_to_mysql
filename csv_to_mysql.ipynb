{
 "cells": [
  {
   "cell_type": "code",
   "execution_count": 1,
   "id": "05ae0177",
   "metadata": {},
   "outputs": [],
   "source": [
    "import mysql.connector as mysql\n",
    "import pandas as pd"
   ]
  },
  {
   "cell_type": "code",
   "execution_count": 2,
   "id": "60170888",
   "metadata": {},
   "outputs": [],
   "source": [
    "db = mysql.connect(host = 'localhost',user = 'root',passwd = '**********',database = 'Countries')"
   ]
  },
  {
   "cell_type": "code",
   "execution_count": 3,
   "id": "84d5ad71",
   "metadata": {},
   "outputs": [],
   "source": [
    "cursor = db.cursor()"
   ]
  },
  {
   "cell_type": "code",
   "execution_count": 4,
   "id": "e06029d3",
   "metadata": {},
   "outputs": [],
   "source": [
    "def modificar_paises(lista):\n",
    "    if type(lista) != list:\n",
    "        lista = lista['Entity']\n",
    "    paises_mod = []\n",
    "    for pais in lista:\n",
    "        for letra in pais:\n",
    "            if letra == ' ' or letra == '-' or letra == '(' or letra == ')':\n",
    "                index = pais.index(letra)\n",
    "                pais = pais[:index] + '_' + pais[index + 1:]\n",
    "            if letra == \"'\" or letra == ':':\n",
    "                index = pais.index(letra)\n",
    "                pais = pais[:index] + pais[index + 1:]\n",
    "            if letra == '&':\n",
    "                index = pais.index(letra)\n",
    "                pais = pais[:index] + 'and' + pais[index + 1:]\n",
    "        if pais not in paises_mod:\n",
    "            paises_mod.append(pais)\n",
    "    return paises_mod\n",
    "\n",
    "def inserir_dados(df,tabela):\n",
    "    for i in df:\n",
    "        nome_data = i\n",
    "    primeiro_ano = min(df['Year'])\n",
    "    ultimo_ano = max(df['Year'])\n",
    "    for ano in range(primeiro_ano,ultimo_ano + 1):\n",
    "        atrib = [tabela.atributos[0]]\n",
    "        dados = [ano]\n",
    "        for i in range(len(df)):\n",
    "            if ano == df.iloc[i]['Year']:\n",
    "                dados.append(df.iloc[i][nome_data])\n",
    "                atrib.append(df.iloc[i]['Entity'])\n",
    "        atrib_mod = modificar_paises(atrib)\n",
    "        tabela.inserir_dados_double(atrib_mod,dados)"
   ]
  },
  {
   "cell_type": "code",
   "execution_count": 37,
   "id": "fff69482",
   "metadata": {},
   "outputs": [],
   "source": [
    "class Tabela:\n",
    "    def __init__(self,cursor,nome,list_atributos,list_tipos):\n",
    "        self.atributos = list_atributos\n",
    "        self.nome = nome\n",
    "        self.cursor = cursor\n",
    "        try:\n",
    "            comando = 'SELECT * FROM ' + self.nome + ';'\n",
    "            self.cursor.execute(comando)\n",
    "            self.data = self.cursor.fetchall()\n",
    "        except mysql.ProgrammingError:\n",
    "            atributos = '('\n",
    "            for i in range(len(list_atributos)):\n",
    "                atributos += list_atributos[i] + ' ' + list_tipos[i] + ','\n",
    "            atributos = atributos[:-1] + ')'\n",
    "            comando = 'CREATE TABLE ' + nome + ' ' + atributos + ';'\n",
    "            #print(comando)\n",
    "            self.cursor.execute(comando)\n",
    "\n",
    "    def inserir_dados_double(self,nomes_atributos,lista_dados):\n",
    "        nomes = '('\n",
    "        for nome in nomes_atributos:\n",
    "            nomes += nome + ','\n",
    "        nomes = nomes[:-1] + ')'\n",
    "        lista = '('\n",
    "        for dado in lista_dados:\n",
    "            lista += str(dado) + ','\n",
    "        lista = lista[:-1] + ')'\n",
    "        comando = 'INSERT INTO ' + self.nome + ' ' + nomes + ' VALUES ' + lista + ';'\n",
    "        self.cursor.execute(comando)\n",
    "        self.select()\n",
    "        \n",
    "    def clear(self):\n",
    "        comando = 'DELETE FROM ' + self.nome + ';'\n",
    "        self.cursor.execute(comando)\n",
    "        self.select()\n",
    "        \n",
    "    def select(self):\n",
    "        comando = 'SELECT * FROM ' + self.nome + ';'\n",
    "        self.cursor.execute(comando)\n",
    "        self.data = self.cursor.fetchall()\n",
    "        return self.data\n",
    "        \n",
    "    def coluna(self,nome,dicionario = True):\n",
    "        comando = 'SELECT ' + nome + ' FROM ' + self.nome + ';'\n",
    "        self.cursor.execute(comando)\n",
    "        col = self.cursor.fetchall()\n",
    "        comando = 'SELECT ' + self.atributos[0] + ' FROM ' + self.nome + ';'\n",
    "        self.cursor.execute(comando)\n",
    "        ind = self.cursor.fetchall()\n",
    "        if dicionario:\n",
    "            mapa = dict()\n",
    "            for i in range(len(ind)):\n",
    "                mapa[ind[i][0]] = col[i][0]\n",
    "            return mapa\n",
    "        else:\n",
    "            lista = list()\n",
    "            for i in range(len(col)):\n",
    "                lista.append(col[i][0])\n",
    "            return lista\n",
    "    \n",
    "    def get_colunas(self,lista):\n",
    "        mapa = dict()\n",
    "        for item in lista:\n",
    "            mapa[item] = self.coluna(item)\n",
    "        return mapa\n",
    "    \n",
    "    def get_dataframe(self):\n",
    "        mapa = dict()\n",
    "        for item in self.atributos:\n",
    "            mapa[item] = self.coluna(item,False)\n",
    "        df = pd.DataFrame(mapa)\n",
    "        return df"
   ]
  },
  {
   "cell_type": "code",
   "execution_count": 26,
   "id": "347d4057",
   "metadata": {},
   "outputs": [],
   "source": [
    "df = pd.read_csv('gdp-per-capita-worldbank.csv')\n",
    "df2 = pd.read_csv('share-of-population-in-extreme-poverty.csv')\n",
    "df3 = pd.read_csv('children-born-per-woman.csv')"
   ]
  },
  {
   "cell_type": "code",
   "execution_count": 8,
   "id": "dcd08902",
   "metadata": {},
   "outputs": [],
   "source": [
    "paises_mod = modificar_paises(df)\n",
    "tipos = ['INT']\n",
    "for _ in range(len(paises_mod)):\n",
    "    tipos.append('DOUBLE')\n",
    "\n",
    "atributos = ['Ano'] + paises_mod\n",
    "\n",
    "paises_mod2 = modificar_paises(df2)\n",
    "tipos2 = ['INT']\n",
    "for _ in range(len(paises_mod2)):\n",
    "    tipos2.append('DOUBLE')\n",
    "\n",
    "atributos2 = ['Ano'] + paises_mod2\n",
    "\n",
    "paises_mod3 = modificar_paises(df3)\n",
    "tipos3 = ['INT']\n",
    "for _ in range(len(paises_mod3)):\n",
    "    tipos3.append('DOUBLE')\n",
    "\n",
    "atributos3 = ['Ano'] + paises_mod3"
   ]
  },
  {
   "cell_type": "code",
   "execution_count": 38,
   "id": "c8be6d64",
   "metadata": {},
   "outputs": [],
   "source": [
    "gdp_per_capita = Tabela(cursor,'PIB_per_capita',atributos,tipos)"
   ]
  },
  {
   "cell_type": "code",
   "execution_count": 39,
   "id": "c44958d7",
   "metadata": {},
   "outputs": [],
   "source": [
    "extreme_poverty = Tabela(cursor,'Extreme_poverty',atributos2,tipos2)"
   ]
  },
  {
   "cell_type": "code",
   "execution_count": 40,
   "id": "0a440140",
   "metadata": {},
   "outputs": [],
   "source": [
    "births_per_woman = Tabela(cursor,'Births_per_woman',atributos3,tipos3)"
   ]
  },
  {
   "cell_type": "code",
   "execution_count": null,
   "id": "e5267eea",
   "metadata": {},
   "outputs": [],
   "source": []
  },
  {
   "cell_type": "code",
   "execution_count": null,
   "id": "59e26cd3",
   "metadata": {},
   "outputs": [],
   "source": []
  },
  {
   "cell_type": "code",
   "execution_count": 45,
   "id": "064bde56",
   "metadata": {},
   "outputs": [],
   "source": [
    "db.commit()"
   ]
  }
 ],
 "metadata": {
  "kernelspec": {
   "display_name": "Python 3 (ipykernel)",
   "language": "python",
   "name": "python3"
  },
  "language_info": {
   "codemirror_mode": {
    "name": "ipython",
    "version": 3
   },
   "file_extension": ".py",
   "mimetype": "text/x-python",
   "name": "python",
   "nbconvert_exporter": "python",
   "pygments_lexer": "ipython3",
   "version": "3.7.11"
  }
 },
 "nbformat": 4,
 "nbformat_minor": 5
}
